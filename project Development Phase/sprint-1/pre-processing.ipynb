{
  "cells": [
    {
      "cell_type": "markdown",
      "metadata": {
        "id": "sg3NcLv4sHA4"
      },
      "source": [
        "### **PRE-PROCESSING**\n",
        "\n",
        "\n"
      ]
    },
    {
      "cell_type": "code",
      "execution_count": null,
      "metadata": {
        "id": "Bz492mgfsHA7"
      },
      "outputs": [],
      "source": [
        "from tensorflow.keras.layers import Dense,Flatten,Input\n",
        "from tensorflow.keras.models import Model\n",
        "from tensorflow.keras.preprocessing import image\n",
        "from tensorflow.keras.preprocessing.image import ImageDataGenerator,load_img\n",
        "from tensorflow.keras.applications.xception import Xception,preprocess_input\n",
        "from glob import glob\n",
        "import numpy as np\n",
        "import matplotlib.pyplot as plt"
      ]
    },
    {
      "cell_type": "code",
      "execution_count": null,
      "metadata": {
        "id": "45j2CDlesHA9"
      },
      "outputs": [],
      "source": [
        "imageSize = [299,299]\n",
        "trainPath = r\"D:/IBM/preprocessed dataset/preprocessed dataset/training\"\n",
        "testPath = r\"D:/IBM/preprocessed dataset/preprocessed dataset/testing\""
      ]
    },
    {
      "cell_type": "markdown",
      "metadata": {
        "id": "-hIGBoohsHA-"
      },
      "source": [
        "### **Using Image DataGenerator to create more data**"
      ]
    },
    {
      "cell_type": "code",
      "execution_count": null,
      "metadata": {
        "id": "LJRLln2asHA-"
      },
      "outputs": [],
      "source": [
        "train_datagen = ImageDataGenerator (rescale=1./255,\n",
        "                                    shear_range= 0.2, \n",
        "                                    zoom_range = 0.2, \n",
        "                                    horizontal_flip = True)\n",
        "test_datagen = ImageDataGenerator (rescale = 1./255)"
      ]
    },
    {
      "cell_type": "code",
      "execution_count": null,
      "metadata": {
        "id": "2PW_wgWrsHA_",
        "outputId": "07f9740f-e791-4afd-c2fd-1f6250f59d02"
      },
      "outputs": [
        {
          "name": "stdout",
          "output_type": "stream",
          "text": [
            "Found 3662 images belonging to 5 classes.\n",
            "Found 734 images belonging to 5 classes.\n"
          ]
        }
      ],
      "source": [
        "training_set = train_datagen.flow_from_directory(trainPath,\n",
        "                                                 target_size = (299,299),\n",
        "                                                 batch_size = 32,\n",
        "                                                 class_mode = 'categorical')\n",
        "test_set = test_datagen.flow_from_directory(testPath,\n",
        "                                                 target_size =(299,299),\n",
        "                                                 batch_size = 32,\n",
        "                                                 class_mode = 'categorical')"
      ]
    }
  ],
  "metadata": {
    "kernelspec": {
      "display_name": "Python 3.9.5 ('base')",
      "language": "python",
      "name": "python3"
    },
    "language_info": {
      "codemirror_mode": {
        "name": "ipython",
        "version": 3
      },
      "file_extension": ".py",
      "mimetype": "text/x-python",
      "name": "python",
      "nbconvert_exporter": "python",
      "pygments_lexer": "ipython3",
      "version": "3.9.5"
    },
    "orig_nbformat": 4,
    "vscode": {
      "interpreter": {
        "hash": "f5f8fd2c7d14981b315d5411c6801562039dc64a4d81acf60010ad95df58210d"
      }
    },
    "colab": {
      "provenance": []
    }
  },
  "nbformat": 4,
  "nbformat_minor": 0
}